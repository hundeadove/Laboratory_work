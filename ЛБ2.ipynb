{
 "cells": [
  {
   "cell_type": "code",
   "execution_count": 2,
   "id": "41bdb994",
   "metadata": {},
   "outputs": [
    {
     "name": "stdout",
     "output_type": "stream",
     "text": [
      "Ввведите single для однопоточного зупуска, multi - многопоточного: single\n",
      "Время перебора паролей: 30.34 секунд\n",
      "password = 'apple': hash = 3a7bd3e2360a3d29eea436fcfb7e44c735d117c42d1c1835420b6b9942dd4f1b\n",
      "password = 'mmmmm': hash = 74e1bb62f8dabb8125a58852b63bdf6eaef667cb56ac7f7cdba6d7305c50a22f\n",
      "password = 'testa': hash = 7a68f09bd992671bb3b19a5e70b7827e\n",
      "password = 'zyzzx': hash = 1115dd800feaacefdf481f1f9070374a2a81e27880f187396db67958b207cbad\n"
     ]
    }
   ],
   "source": [
    "from itertools import product\n",
    "from string import ascii_lowercase\n",
    "from concurrent.futures import ThreadPoolExecutor\n",
    "import hashlib\n",
    "import time\n",
    "\n",
    "\n",
    "hashes = [\n",
    "    '1115dd800feaacefdf481f1f9070374a2a81e27880f187396db67958b207cbad',\n",
    "    '3a7bd3e2360a3d29eea436fcfb7e44c735d117c42d1c1835420b6b9942dd4f1b',\n",
    "    '74e1bb62f8dabb8125a58852b63bdf6eaef667cb56ac7f7cdba6d7305c50a22f',\n",
    "    '7a68f09bd992671bb3b19a5e70b7827e']\n",
    "\n",
    "\n",
    "passwords = [''.join(seq) for seq in product(ascii_lowercase, repeat=5)]\n",
    "\n",
    "\n",
    "def brute_force(hash_values):\n",
    "    start_time = time.time()\n",
    "    d = {}\n",
    "    for password in passwords:\n",
    "\n",
    "        if len(d) == 4:\n",
    "            t = round(time.time() - start_time, 2)\n",
    "            return d, t\n",
    "\n",
    "        md5_hash = hashlib.md5(password.encode()).hexdigest()\n",
    "        if md5_hash in hash_values:\n",
    "            d[password] = md5_hash\n",
    "            continue\n",
    "\n",
    "\n",
    "        sha256_hash = hashlib.sha256(password.encode()).hexdigest()\n",
    "        if sha256_hash in hash_values:\n",
    "            d[password] = sha256_hash\n",
    "            continue\n",
    "\n",
    "def brute_force_multi(hash_values, num_threads):\n",
    "    with ThreadPoolExecutor(max_workers=num_threads) as executor:\n",
    "        futures = executor.submit(brute_force, hash_values)\n",
    "        results = futures.result()\n",
    "        return results\n",
    "\n",
    "\n",
    "\n",
    "program_type = input('Ввведите single для однопоточного зупуска, multi - многопоточного: ')\n",
    "if program_type not in ('single', 'multi'):\n",
    "    print('Выбран неверный режим запуска')\n",
    "    exit()\n",
    "\n",
    "if program_type == 'single':\n",
    "    d, t = brute_force(hashes)\n",
    "    print(f'Время перебора паролей: {t} секунд')\n",
    "    for password, hash_value in d.items():\n",
    "        print(f'{password = }: hash = {hash_value}')\n",
    "\n",
    "else:\n",
    "    try:\n",
    "        num_threads = int(input('Введите количество потоков от 1 до 16: '))\n",
    "        if num_threads not in [i for i in range(1, 17)]:\n",
    "            print('Неверный ввод')\n",
    "            exit()\n",
    "    except Exception as e:\n",
    "        print('Неверный ввод')\n",
    "        exit()\n",
    "\n",
    "\n",
    "    d, t = brute_force_multi(hashes, num_threads)\n",
    "    print(f'Время перебора паролей: {t} секунд')\n",
    "    for password, hash_value in d.items():\n",
    "        print(f'{password = }: hash = {hash_value}')\n"
   ]
  },
  {
   "cell_type": "code",
   "execution_count": null,
   "id": "3e24b277",
   "metadata": {},
   "outputs": [],
   "source": []
  }
 ],
 "metadata": {
  "kernelspec": {
   "display_name": "Python 3 (ipykernel)",
   "language": "python",
   "name": "python3"
  },
  "language_info": {
   "codemirror_mode": {
    "name": "ipython",
    "version": 3
   },
   "file_extension": ".py",
   "mimetype": "text/x-python",
   "name": "python",
   "nbconvert_exporter": "python",
   "pygments_lexer": "ipython3",
   "version": "3.9.12"
  }
 },
 "nbformat": 4,
 "nbformat_minor": 5
}
